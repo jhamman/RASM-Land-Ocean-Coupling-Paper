version https://git-lfs.github.com/spec/v1
oid sha256:cc10575fe60d96069dfe62b87592c04aa659acc3f4468ebed5e18fc5b4b91e55
size 755100
