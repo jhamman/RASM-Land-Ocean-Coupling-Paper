version https://git-lfs.github.com/spec/v1
oid sha256:d88513c19eac413644cba2bf4e9674ac8d5651683ef46c08d5303e54a8ac0d9d
size 432043
