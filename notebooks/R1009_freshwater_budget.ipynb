{
 "cells": [
  {
   "cell_type": "code",
   "execution_count": 17,
   "metadata": {
    "collapsed": true
   },
   "outputs": [],
   "source": [
    "%matplotlib inline"
   ]
  },
  {
   "cell_type": "code",
   "execution_count": 18,
   "metadata": {
    "collapsed": false
   },
   "outputs": [],
   "source": [
    "# Reguired libraries\n",
    "import os\n",
    "import pandas as pd\n",
    "import xray\n",
    "import numpy as np\n",
    "import matplotlib as mpl\n",
    "import matplotlib.pyplot as plt\n",
    "import matplotlib.lines as mlines\n",
    "from mpl_toolkits.basemap import cm as basemap_cm\n",
    "import seaborn as sns\n",
    "from collections import OrderedDict\n",
    "from netCDF4 import num2date\n",
    "from scipy.stats import ranksums, ttest_ind\n",
    "from scipy.spatial import ConvexHull\n",
    "from datetime import datetime\n",
    "from calendar import month_abbr, month_name\n",
    "from netCDF4 import date2num, num2date\n",
    "\n",
    "# For temporary display of existing figures\n",
    "from IPython.display import Image\n",
    "\n",
    "# RASM lib plotting utilities\n",
    "from rasmlib.calendar import dpm\n",
    "from rasmlib.analysis.climatology import season_mean, annual_mean\n",
    "from rasmlib.analysis.plotting import cmap_discretize, sub_plot_pcolor, projections, default_map, make_bmap, seasons\n",
    "\n",
    "# Set some general plotting values\n",
    "fontsize = 7\n",
    "dpi = 200 # set to 900 for final publication\n",
    "mpl.rc('font', family='sans-serif') \n",
    "mpl.rc('font', serif='Myriad Pro') \n",
    "mpl.rc('text', usetex='false') \n",
    "mpl.rcParams.update({'font.size': fontsize})\n",
    "mpl.rcParams['mathtext.default'] = 'sf'\n",
    "mpl.rcParams['pdf.fonttype'] = 42\n",
    "mpl.rcParams['pdf.fonttype'] = 42\n",
    "\n",
    "fill_color = (0.9, 0.9, 0.9)"
   ]
  },
  {
   "cell_type": "code",
   "execution_count": 19,
   "metadata": {
    "collapsed": false
   },
   "outputs": [
    {
     "name": "stdout",
     "output_type": "stream",
     "text": [
      "adam_monthly_ts\n",
      "rasm_domain\n",
      "era_monthly_ts3\n",
      "merra_monthly_ts1\n",
      "cru_monthly_ts\n",
      "rasm_cpl_cfsr_monthly_ts\n",
      "rasm_ocn_masks\n",
      "rasm_cpl_era_monthly_ts\n",
      "sheffield_monthly_ts\n",
      "rasm_lnd_masks\n",
      "adam_monthly_ts\n",
      "era_monthly_ts3\n",
      "merra_monthly_ts1\n",
      "cru_monthly_ts\n",
      "sheffield_monthly_ts\n"
     ]
    }
   ],
   "source": [
    "ncfiles = {}\n",
    "\n",
    "# Grid and domain files\n",
    "ncfiles['rasm_domain'] = '/raid2/jhamman/projects/RASM/data/inputdata/CESM/share/domains/domain.lnd.wr50a_ar9v4.100920.nc'\n",
    "ncfiles['rasm_lnd_masks'] = '/raid2/jhamman/projects/RASM/data/inputdata/RASM_VICRVIC_GRID_MASKS_AND_METRICS.nc'\n",
    "ncfiles['rasm_ocn_masks'] = '/raid2/jhamman/projects/RASM/data/inputdata/RASM_WRFVIC_GRID_MASKS_AND_METRICS.nc'\n",
    "\n",
    "rasm_sims = ['rasm_cpl_era_monthly_ts', 'rasm_cpl_cfsr_monthly_ts']\n",
    "ncfiles['rasm_cpl_era_monthly_ts'] = '/raid2/jhamman/projects/RASM/data/processed/R1009RBRceap01a/cpl/monthly_mean_timeseries/R1009RBRceap01a.cpl.hmm.197909-201412.nc'\n",
    "ncfiles['rasm_cpl_cfsr_monthly_ts'] = '/raid2/jhamman/projects/RASM/data/processed/R1009RBRceap01b/cpl/monthly_mean_timeseries/R1009RBRceap01b.cpl.hmm.197909-200912.nc'\n",
    "ncfiles['era_monthly_ts3'] = '/raid2/jhamman/projects/RASM/data/compare/era-interim/era_water_vars.1979-2014.nc'\n",
    "ncfiles['merra_monthly_ts1'] = '/raid2/jhamman/projects/RASM/data/compare/MERRA/monthly/MERRA.prod.assim.tavgM_2d_lnd_Nx.197901-201312.SUB.wr50a.nc'\n",
    "ncfiles['cru_monthly_ts'] = '/raid2/jhamman/projects/RASM/data/compare/cru_ts3.21/cru_ts3.21.1901.2012_wr50a.nc'\n",
    "ncfiles['sheffield_monthly_ts'] = '/raid2/jhamman/projects/RASM/data/compare/sheffield2006/sheffield2006_wr50a.mm.nc'\n",
    "ncfiles['adam_monthly_ts'] = '/raid2/jhamman/projects/RASM/data/compare/adam2003/adam2003_wr50a.mm.nc'\n",
    "\n",
    "start='1990-01-01'\n",
    "end='2014-12-31'\n",
    "\n",
    "ncdata = {}\n",
    "for k, v in ncfiles.items():\n",
    "    try:\n",
    "        print(k)\n",
    "        ncdata[k] = xray.open_dataset(v)\n",
    "    except:\n",
    "        print(k, '<---unable to decode time!', )\n",
    "\n",
    "# Rename variables in datasets as necessary\n",
    "name_dicts = {'era_monthly_ts3': {'tp': 'Precipitation',\n",
    "                                  'e': 'Evap',\n",
    "                                  'ro': 'Runoff'},\n",
    "              'sheffield_monthly_ts':{'prcp': 'Precipitation'},\n",
    "              'merra_monthly_ts1': {'prectot': 'Precipitation',\n",
    "                                    'runoff': 'Runoff',\n",
    "                                    'baseflow': 'Baseflow',\n",
    "                                    'shland': 'Senht',\n",
    "                                    'lhland': 'Latht',\n",
    "                                    'snomas': 'Swq',\n",
    "                                    'evland': 'Evap',\n",
    "                                    'lwland': 'Lwnet',\n",
    "                                    'swland': 'Swnet'},\n",
    "              'cru_monthly_ts': {'pre': 'Precipitation'},\n",
    "              'adam_monthly_ts': {'Precip': 'Precipitation'},\n",
    "              }\n",
    "\n",
    "for k, v in ncdata.items():\n",
    "    if k in name_dicts:\n",
    "        print(k)\n",
    "        v.rename(name_dicts[k], inplace=True)\n",
    "        \n",
    "\n",
    "# Setup rasmlib plotting\n",
    "wr50a_map = make_bmap(projection=projections['wr50a'],\n",
    "                      lons=ncdata['rasm_domain']['xc'].values,\n",
    "                      lats=ncdata['rasm_domain']['yc'].values)"
   ]
  },
  {
   "cell_type": "code",
   "execution_count": null,
   "metadata": {
    "collapsed": true
   },
   "outputs": [],
   "source": []
  },
  {
   "cell_type": "code",
   "execution_count": 20,
   "metadata": {
    "collapsed": false
   },
   "outputs": [],
   "source": [
    "lnd_mask_keys = ['mask_rof_to_centralarctic', 'mask_rof_to_kara', 'mask_rof_to_barents']\n",
    "\n",
    "lnd_mask = np.zeros_like(ncdata['rasm_lnd_masks'][lnd_mask_keys[0]].values)\n",
    "for k in lnd_mask_keys:\n",
    "    lnd_mask += ncdata['rasm_lnd_masks'][k].values\n",
    "lnd_mask = lnd_mask.clip(0., 1.)\n",
    "\n",
    "ocn_mask_keys = ['mask_centralarctic', 'mask_kara', 'mask_barents']\n",
    "\n",
    "ocn_mask = np.zeros_like(ncdata['rasm_ocn_masks'][ocn_mask_keys[0]].values)\n",
    "for k in ocn_mask_keys:\n",
    "    ocn_mask += ncdata['rasm_ocn_masks'][k].values\n",
    "ocn_mask = ocn_mask.clip(0., 1.)\n",
    "\n",
    "full_mask = lnd_mask + ocn_mask\n",
    "full_mask = full_mask.clip(0., 1.)\n",
    "\n",
    "all_ones_mask = np.ones_like(full_mask)\n",
    "else_mask = all_ones_mask - full_mask\n"
   ]
  },
  {
   "cell_type": "code",
   "execution_count": null,
   "metadata": {
    "collapsed": false
   },
   "outputs": [],
   "source": []
  },
  {
   "cell_type": "code",
   "execution_count": 21,
   "metadata": {
    "collapsed": true
   },
   "outputs": [],
   "source": [
    "re = 6.37122e6\n",
    "rho = 1.000e3\n",
    "days_per_year = 365.\n",
    "seconds_per_year =days_per_year * 86400.\n",
    "mm_per_m = 1000.\n",
    "m_per_km = 1000.\n",
    "m3_to_km3 = 1 / m_per_km**3\n",
    "kg_to_km3 = m3_to_km3 / rho"
   ]
  },
  {
   "cell_type": "code",
   "execution_count": 22,
   "metadata": {
    "collapsed": false
   },
   "outputs": [],
   "source": [
    "# Add variables or adjust units of datasets if ncessary\n",
    "\n",
    "# RASM\n",
    "re = 6.37122e6\n",
    "ncdata['rasm_domain']['area'] *= re * re  # m2\n",
    "\n",
    "for sim in rasm_sims:\n",
    "    ncdata[sim]['Precipitation'] = ncdata[sim]['a2xavg_Faxa_rainc'] + ncdata[sim]['a2xavg_Faxa_rainl'] + ncdata[sim]['a2xavg_Faxa_snowc'] + ncdata[sim]['a2xavg_Faxa_snowl']\n",
    "\n",
    "# ERA-Interim\n",
    "for var in ('Runoff', 'Precipitation'):\n",
    "    ncdata['era_monthly_ts3'][var] *= 1000.\n",
    "ncdata['era_monthly_ts3']['Evap'] *= -1000.\n",
    "ncdata['era_monthly_ts3'] = ncdata['era_monthly_ts3'].resample('MS', how='mean', dim='time')\n",
    "ncdata['era_monthly_ts3']['runoff_tot'] = ncdata['era_monthly_ts3']['Runoff']\n",
    "ncdata['era_monthly_ts3']['P-E'] = ncdata['era_monthly_ts3']['Precipitation'] - ncdata['era_monthly_ts3']['Evap']\n",
    "ncdata['era_monthly_ts3'].drop(['nv4', 'xc_bnds', 'yc_bnds'])\n",
    "\n",
    "\n",
    "# MERRA\n",
    "ncdata['merra_monthly_ts1']['Precipitation'] *= 86400 \n",
    "ncdata['merra_monthly_ts1']['Runoff'] *= 86400 \n",
    "ncdata['merra_monthly_ts1']['Baseflow'] *= 86400 \n",
    "ncdata['merra_monthly_ts1']['Evap'] *= 86400 \n",
    "ncdata['merra_monthly_ts1']['runoff_tot'] = ncdata['merra_monthly_ts1']['Runoff'] + ncdata['merra_monthly_ts1']['Baseflow']\n",
    "ncdata['merra_monthly_ts1']['runoff_ratio'] = ncdata['merra_monthly_ts1']['runoff_tot'] / ncdata['merra_monthly_ts1']['Precipitation']\n",
    "ncdata['merra_monthly_ts1']['P-E'] = ncdata['merra_monthly_ts1']['Precipitation'] - ncdata['merra_monthly_ts1']['Evap']"
   ]
  },
  {
   "cell_type": "code",
   "execution_count": 23,
   "metadata": {
    "collapsed": false
   },
   "outputs": [],
   "source": [
    "def mask_to_vol(var, mask, domain, units='kg m-2 s-1', days_per_year=365):\n",
    "    '''\n",
    "    var (units: kg m-2 s-1) and mask are numpy arrays, domain is a xray dataset\n",
    "    \n",
    "    returns volume in km3\n",
    "    '''\n",
    "    if units == 'kg m-2 s-1':\n",
    "        units_mult = kg_to_km3 * days_per_year * 86400\n",
    "    elif units == 'mm d-1':\n",
    "        units_mult = days_per_year * m3_to_km3 / mm_per_m\n",
    "    \n",
    "    ys, xs = np.nonzero(mask)\n",
    "    return (var[ys, xs] * domain['area'].values[ys, xs] * mask[ys, xs]).sum() * units_mult\n",
    "    "
   ]
  },
  {
   "cell_type": "code",
   "execution_count": 24,
   "metadata": {
    "collapsed": false
   },
   "outputs": [],
   "source": [
    "def empty_df():\n",
    "    df = pd.DataFrame()\n",
    "    df['P_O'] = [np.nan]\n",
    "    df['E_O'] = [np.nan]\n",
    "#     df['Inflow_O'] = np.nan\n",
    "#     df['Outflow_O'] = np.nan\n",
    "    df['P_L'] = [np.nan]\n",
    "    df['ET_L'] = [np.nan]\n",
    "    df['R_L'] = [np.nan]\n",
    "    df['C_A'] = [np.nan]\n",
    "    \n",
    "    return df\n",
    "\n",
    "def get_summary(data, var, mask, **kwargs):\n",
    "    \n",
    "    try:\n",
    "        return mask_to_vol(data[var].values, mask, ncdata['rasm_domain'], **kwargs)\n",
    "    except:\n",
    "        return np.nan\n",
    "    \n",
    "    return val"
   ]
  },
  {
   "cell_type": "code",
   "execution_count": 25,
   "metadata": {
    "collapsed": false
   },
   "outputs": [],
   "source": [
    "# summary['rasm_cpl_era_monthly_ts_wrfphys']['P_L'] - summary['rasm_cpl_era_monthly_ts_wrfphys']['R_L'] - summary['rasm_cpl_era_monthly_ts_wrfphys']['ET_L']"
   ]
  },
  {
   "cell_type": "code",
   "execution_count": 26,
   "metadata": {
    "collapsed": false
   },
   "outputs": [
    {
     "name": "stdout",
     "output_type": "stream",
     "text": [
      "rasm_cpl_era_monthly_ts\n",
      "   P_O  E_O           P_L          ET_L  R_L           C_A\n",
      "0  NaN  NaN  92875.694836  72767.580519  NaN  20108.114316\n",
      "rasm_cpl_cfsr_monthly_ts\n",
      "   P_O  E_O           P_L          ET_L  R_L           C_A\n",
      "0  NaN  NaN  95453.133738  72678.291192  NaN  22774.842546\n"
     ]
    }
   ],
   "source": [
    "#  domain mask\n",
    "summary = OrderedDict()\n",
    "for sim in rasm_sims:\n",
    "    print(sim)\n",
    "    summary[sim] = empty_df()\n",
    "    try:\n",
    "        ds = ncdata[sim][['Precipitation', 'l2xavg_Flrl_rofliq', 'l2xavg_Fall_evap', 'x2aavg_Faxx_evap']]\n",
    "    except:\n",
    "        ds = ncdata[sim][['Precipitation', 'l2xavg_Flrl_rofliq']]\n",
    "   \n",
    "    cpl_annual_mean = annual_mean(ds.sel(time=slice(start, end)), calendar='noleap')\n",
    "\n",
    "    summary[sim]['P_L'][0] = get_summary(cpl_annual_mean, 'Precipitation', all_ones_mask)\n",
    "    summary[sim]['ET_L'][0] = -1 * get_summary(cpl_annual_mean, 'x2aavg_Faxx_evap', all_ones_mask)\n",
    "\n",
    "    try:\n",
    "        cpl_annual_mean['C_A'] = cpl_annual_mean['Precipitation']\n",
    "        cpl_annual_mean['C_A'] += cpl_annual_mean['x2aavg_Faxx_evap'].values\n",
    "        summary[sim]['C_A'][0] = get_summary(cpl_annual_mean, 'C_A', all_ones_mask)\n",
    "    except:\n",
    "        summary[sim]['C_A'][0] = np.nan\n",
    "        \n",
    "    print(summary[sim])"
   ]
  },
  {
   "cell_type": "code",
   "execution_count": 27,
   "metadata": {
    "collapsed": false
   },
   "outputs": [
    {
     "name": "stdout",
     "output_type": "stream",
     "text": [
      "rasm_cpl_era_monthly_ts\n",
      "   P_O  E_O           P_L          ET_L  R_L           C_A\n",
      "0  NaN  NaN  81885.562632  66927.180987  NaN  14958.381645\n",
      "rasm_cpl_cfsr_monthly_ts\n",
      "   P_O  E_O           P_L          ET_L  R_L           C_A\n",
      "0  NaN  NaN  84473.616716  66846.183967  NaN  17627.432749\n"
     ]
    }
   ],
   "source": [
    "#  else mask\n",
    "summary = OrderedDict()\n",
    "for sim in rasm_sims:\n",
    "    print(sim)\n",
    "    summary[sim] = empty_df()\n",
    "    try:\n",
    "        ds = ncdata[sim][['Precipitation', 'l2xavg_Flrl_rofliq', 'l2xavg_Fall_evap', 'x2aavg_Faxx_evap']]\n",
    "    except:\n",
    "        ds = ncdata[sim][['Precipitation', 'l2xavg_Flrl_rofliq']]\n",
    "   \n",
    "    cpl_annual_mean = annual_mean(ds.sel(time=slice(start, end)), calendar='noleap')\n",
    "\n",
    "    summary[sim]['P_L'][0] = get_summary(cpl_annual_mean, 'Precipitation', else_mask)\n",
    "    summary[sim]['ET_L'][0] = -1 * get_summary(cpl_annual_mean, 'x2aavg_Faxx_evap', else_mask)\n",
    "\n",
    "    try:\n",
    "        cpl_annual_mean['C_A'] = cpl_annual_mean['Precipitation']\n",
    "        cpl_annual_mean['C_A'] += cpl_annual_mean['x2aavg_Faxx_evap'].values\n",
    "        summary[sim]['C_A'][0] = get_summary(cpl_annual_mean, 'C_A', else_mask)\n",
    "    except:\n",
    "        summary[sim]['C_A'][0] = np.nan\n",
    "        \n",
    "    print(summary[sim])"
   ]
  },
  {
   "cell_type": "code",
   "execution_count": 28,
   "metadata": {
    "collapsed": false
   },
   "outputs": [
    {
     "name": "stdout",
     "output_type": "stream",
     "text": [
      "rasm_cpl_era_monthly_ts\n",
      "           P_O         E_O          P_L         ET_L          R_L          C_A\n",
      "0  2644.372842  569.293984  8346.073802  5271.203182  3072.081764  5149.732672\n",
      "rasm_cpl_cfsr_monthly_ts\n",
      "           P_O         E_O         P_L        ET_L          R_L          C_A\n",
      "0  2626.158716  567.374503  8353.67382  5264.82958  3089.897593  5147.409797\n"
     ]
    }
   ],
   "source": [
    "# land / ocean masks\n",
    "summary = OrderedDict()\n",
    "for sim in rasm_sims:\n",
    "    print(sim)\n",
    "    summary[sim] = empty_df()\n",
    "    try:\n",
    "        ds = ncdata[sim][['Precipitation', 'l2xavg_Flrl_rofliq', 'l2xavg_Fall_evap', 'x2aavg_Faxx_evap']]\n",
    "    except:\n",
    "        ds = ncdata[sim][['Precipitation', 'l2xavg_Flrl_rofliq']]\n",
    "   \n",
    "    cpl_annual_mean = annual_mean(ds.sel(time=slice(start, end)), calendar='noleap')\n",
    "\n",
    "    summary[sim]['P_L'][0] = get_summary(cpl_annual_mean, 'Precipitation', lnd_mask)\n",
    "    summary[sim]['ET_L'][0] = -1 * get_summary(cpl_annual_mean, 'x2aavg_Faxx_evap', lnd_mask)\n",
    "    summary[sim]['R_L'][0] = get_summary(cpl_annual_mean, 'l2xavg_Flrl_rofliq', lnd_mask)\n",
    "    summary[sim]['P_O'][0] = get_summary(cpl_annual_mean, 'Precipitation', ocn_mask)\n",
    "    summary[sim]['E_O'][0] = -1 * get_summary(cpl_annual_mean, 'x2aavg_Faxx_evap', ocn_mask)\n",
    "\n",
    "    try:\n",
    "        cpl_annual_mean['C_A'] = cpl_annual_mean['Precipitation']\n",
    "        cpl_annual_mean['C_A'] += cpl_annual_mean['x2aavg_Faxx_evap'].values\n",
    "        summary[sim]['C_A'][0] = get_summary(cpl_annual_mean, 'C_A', full_mask)\n",
    "    except:\n",
    "        summary[sim]['C_A'][0] = np.nan\n",
    "        \n",
    "    print(summary[sim])"
   ]
  },
  {
   "cell_type": "code",
   "execution_count": 31,
   "metadata": {
    "collapsed": false
   },
   "outputs": [
    {
     "name": "stdout",
     "output_type": "stream",
     "text": [
      "rasm_cpl_era_monthly_ts 0    2.788855\n",
      "dtype: float64\n",
      "rasm_cpl_cfsr_monthly_ts 0   -1.053353\n",
      "dtype: float64\n"
     ]
    }
   ],
   "source": [
    "for sim in rasm_sims:\n",
    "    print(sim, summary[sim]['P_L'] - summary[sim]['ET_L'] - summary[sim]['R_L'])"
   ]
  },
  {
   "cell_type": "code",
   "execution_count": 29,
   "metadata": {
    "collapsed": false
   },
   "outputs": [
    {
     "name": "stdout",
     "output_type": "stream",
     "text": [
      "ERA\n"
     ]
    },
    {
     "data": {
      "text/html": [
       "<div>\n",
       "<table border=\"1\" class=\"dataframe\">\n",
       "  <thead>\n",
       "    <tr style=\"text-align: right;\">\n",
       "      <th></th>\n",
       "      <th>P_O</th>\n",
       "      <th>E_O</th>\n",
       "      <th>P_L</th>\n",
       "      <th>ET_L</th>\n",
       "      <th>R_L</th>\n",
       "      <th>C_A</th>\n",
       "    </tr>\n",
       "  </thead>\n",
       "  <tbody>\n",
       "    <tr>\n",
       "      <th>0</th>\n",
       "      <td>2901.19921</td>\n",
       "      <td>1169.346319</td>\n",
       "      <td>7811.97573</td>\n",
       "      <td>4813.036173</td>\n",
       "      <td>3741.581151</td>\n",
       "      <td>4730.599378</td>\n",
       "    </tr>\n",
       "  </tbody>\n",
       "</table>\n",
       "</div>"
      ],
      "text/plain": [
       "          P_O          E_O         P_L         ET_L          R_L          C_A\n",
       "0  2901.19921  1169.346319  7811.97573  4813.036173  3741.581151  4730.599378"
      ]
     },
     "execution_count": 29,
     "metadata": {},
     "output_type": "execute_result"
    }
   ],
   "source": [
    "sim = 'ERA'\n",
    "print(sim)\n",
    "summary[sim] = empty_df()\n",
    "\n",
    "kwargs = dict(units='mm d-1', days_per_year=365.25)\n",
    "\n",
    "era_annual_mean = annual_mean(ncdata['era_monthly_ts3'].sel(time=slice(start, end)), calendar='standard')\n",
    "\n",
    "summary[sim]['P_L'][0] = get_summary(era_annual_mean, 'Precipitation', lnd_mask, **kwargs)\n",
    "summary[sim]['ET_L'][0] = get_summary(era_annual_mean, 'Evap', lnd_mask, **kwargs)\n",
    "summary[sim]['R_L'][0] = get_summary(era_annual_mean, 'runoff_tot', lnd_mask, **kwargs)\n",
    "summary[sim]['P_O'][0] = get_summary(era_annual_mean, 'Precipitation', ocn_mask, **kwargs)\n",
    "summary[sim]['E_O'][0] = get_summary(era_annual_mean, 'Evap', ocn_mask, **kwargs)\n",
    "\n",
    "try:\n",
    "    era_annual_mean['C_A'] = era_annual_mean['Precipitation']\n",
    "    era_annual_mean['C_A'] -= era_annual_mean['Evap'].values\n",
    "    summary[sim]['C_A'][0] = get_summary(era_annual_mean, 'C_A', full_mask, **kwargs)\n",
    "except:\n",
    "    summary[sim]['C_A'][0] = np.nan\n",
    "\n",
    "summary[sim]"
   ]
  },
  {
   "cell_type": "code",
   "execution_count": 30,
   "metadata": {
    "collapsed": false
   },
   "outputs": [
    {
     "name": "stdout",
     "output_type": "stream",
     "text": [
      "MERRA\n"
     ]
    },
    {
     "ename": "KeyError",
     "evalue": "'cannot represent labeled-based slice indexer for dimension %r with a slice over integer positions; the index is unsorted or non-unique'",
     "output_type": "error",
     "traceback": [
      "\u001b[1;31m---------------------------------------------------------------------------\u001b[0m",
      "\u001b[1;31mKeyError\u001b[0m                                  Traceback (most recent call last)",
      "\u001b[1;32m<ipython-input-30-7389980649fc>\u001b[0m in \u001b[0;36m<module>\u001b[1;34m()\u001b[0m\n\u001b[0;32m      5\u001b[0m \u001b[0mkwargs\u001b[0m \u001b[1;33m=\u001b[0m \u001b[0mdict\u001b[0m\u001b[1;33m(\u001b[0m\u001b[0munits\u001b[0m\u001b[1;33m=\u001b[0m\u001b[1;34m'mm d-1'\u001b[0m\u001b[1;33m,\u001b[0m \u001b[0mdays_per_year\u001b[0m\u001b[1;33m=\u001b[0m\u001b[1;36m365.25\u001b[0m\u001b[1;33m)\u001b[0m\u001b[1;33m\u001b[0m\u001b[0m\n\u001b[0;32m      6\u001b[0m \u001b[1;33m\u001b[0m\u001b[0m\n\u001b[1;32m----> 7\u001b[1;33m \u001b[0mmerra_annual_mean\u001b[0m \u001b[1;33m=\u001b[0m \u001b[0mannual_mean\u001b[0m\u001b[1;33m(\u001b[0m\u001b[0mncdata\u001b[0m\u001b[1;33m[\u001b[0m\u001b[1;34m'merra_monthly_ts1'\u001b[0m\u001b[1;33m]\u001b[0m\u001b[1;33m.\u001b[0m\u001b[0msel\u001b[0m\u001b[1;33m(\u001b[0m\u001b[0mtime\u001b[0m\u001b[1;33m=\u001b[0m\u001b[0mslice\u001b[0m\u001b[1;33m(\u001b[0m\u001b[0mstart\u001b[0m\u001b[1;33m,\u001b[0m \u001b[0mend\u001b[0m\u001b[1;33m)\u001b[0m\u001b[1;33m)\u001b[0m\u001b[1;33m,\u001b[0m \u001b[0mcalendar\u001b[0m\u001b[1;33m=\u001b[0m\u001b[1;34m'standard'\u001b[0m\u001b[1;33m)\u001b[0m\u001b[1;33m\u001b[0m\u001b[0m\n\u001b[0m\u001b[0;32m      8\u001b[0m \u001b[1;33m\u001b[0m\u001b[0m\n\u001b[0;32m      9\u001b[0m \u001b[0msummary\u001b[0m\u001b[1;33m[\u001b[0m\u001b[0msim\u001b[0m\u001b[1;33m]\u001b[0m\u001b[1;33m[\u001b[0m\u001b[1;34m'P_L'\u001b[0m\u001b[1;33m]\u001b[0m\u001b[1;33m[\u001b[0m\u001b[1;36m0\u001b[0m\u001b[1;33m]\u001b[0m \u001b[1;33m=\u001b[0m \u001b[0mget_summary\u001b[0m\u001b[1;33m(\u001b[0m\u001b[0mmerra_annual_mean\u001b[0m\u001b[1;33m,\u001b[0m \u001b[1;34m'Precipitation'\u001b[0m\u001b[1;33m,\u001b[0m \u001b[0mlnd_mask\u001b[0m\u001b[1;33m,\u001b[0m \u001b[1;33m**\u001b[0m\u001b[0mkwargs\u001b[0m\u001b[1;33m)\u001b[0m\u001b[1;33m\u001b[0m\u001b[0m\n",
      "\u001b[1;32m/home/raid2/jhamman/projects/RASM/src/xray/xray/core/dataset.py\u001b[0m in \u001b[0;36msel\u001b[1;34m(self, method, **indexers)\u001b[0m\n\u001b[0;32m   1036\u001b[0m         \"\"\"\n\u001b[0;32m   1037\u001b[0m         return self.isel(**indexing.remap_label_indexers(self, indexers,\n\u001b[1;32m-> 1038\u001b[1;33m                                                          method=method))\n\u001b[0m\u001b[0;32m   1039\u001b[0m \u001b[1;33m\u001b[0m\u001b[0m\n\u001b[0;32m   1040\u001b[0m     \u001b[1;32mdef\u001b[0m \u001b[0misel_points\u001b[0m\u001b[1;33m(\u001b[0m\u001b[0mself\u001b[0m\u001b[1;33m,\u001b[0m \u001b[0mdim\u001b[0m\u001b[1;33m=\u001b[0m\u001b[1;34m'points'\u001b[0m\u001b[1;33m,\u001b[0m \u001b[1;33m**\u001b[0m\u001b[0mindexers\u001b[0m\u001b[1;33m)\u001b[0m\u001b[1;33m:\u001b[0m\u001b[1;33m\u001b[0m\u001b[0m\n",
      "\u001b[1;32m/home/raid2/jhamman/projects/RASM/src/xray/xray/core/indexing.py\u001b[0m in \u001b[0;36mremap_label_indexers\u001b[1;34m(data_obj, indexers, method)\u001b[0m\n\u001b[0;32m    167\u001b[0m     return dict((dim, convert_label_indexer(data_obj[dim].to_index(), label,\n\u001b[0;32m    168\u001b[0m                                             dim, method))\n\u001b[1;32m--> 169\u001b[1;33m                 for dim, label in iteritems(indexers))\n\u001b[0m\u001b[0;32m    170\u001b[0m \u001b[1;33m\u001b[0m\u001b[0m\n\u001b[0;32m    171\u001b[0m \u001b[1;33m\u001b[0m\u001b[0m\n",
      "\u001b[1;32m/home/raid2/jhamman/projects/RASM/src/xray/xray/core/indexing.py\u001b[0m in \u001b[0;36m<genexpr>\u001b[1;34m(.0)\u001b[0m\n\u001b[0;32m    167\u001b[0m     return dict((dim, convert_label_indexer(data_obj[dim].to_index(), label,\n\u001b[0;32m    168\u001b[0m                                             dim, method))\n\u001b[1;32m--> 169\u001b[1;33m                 for dim, label in iteritems(indexers))\n\u001b[0m\u001b[0;32m    170\u001b[0m \u001b[1;33m\u001b[0m\u001b[0m\n\u001b[0;32m    171\u001b[0m \u001b[1;33m\u001b[0m\u001b[0m\n",
      "\u001b[1;32m/home/raid2/jhamman/projects/RASM/src/xray/xray/core/indexing.py\u001b[0m in \u001b[0;36mconvert_label_indexer\u001b[1;34m(index, label, index_name, method)\u001b[0m\n\u001b[0;32m    144\u001b[0m             \u001b[1;31m# unlike pandas, in xray we never want to silently convert a slice\u001b[0m\u001b[1;33m\u001b[0m\u001b[1;33m\u001b[0m\u001b[0m\n\u001b[0;32m    145\u001b[0m             \u001b[1;31m# indexer into an array indexer\u001b[0m\u001b[1;33m\u001b[0m\u001b[1;33m\u001b[0m\u001b[0m\n\u001b[1;32m--> 146\u001b[1;33m             raise KeyError('cannot represent labeled-based slice indexer for '\n\u001b[0m\u001b[0;32m    147\u001b[0m                            \u001b[1;34m'dimension %r with a slice over integer positions; '\u001b[0m\u001b[1;33m\u001b[0m\u001b[0m\n\u001b[0;32m    148\u001b[0m                            'the index is unsorted or non-unique')\n",
      "\u001b[1;31mKeyError\u001b[0m: 'cannot represent labeled-based slice indexer for dimension %r with a slice over integer positions; the index is unsorted or non-unique'"
     ]
    }
   ],
   "source": [
    "sim = 'MERRA'\n",
    "print(sim)\n",
    "summary[sim] = empty_df()\n",
    "\n",
    "kwargs = dict(units='mm d-1', days_per_year=365.25)\n",
    "\n",
    "merra_annual_mean = annual_mean(ncdata['merra_monthly_ts1'].sel(time=slice(start, end)), calendar='standard')\n",
    "\n",
    "summary[sim]['P_L'][0] = get_summary(merra_annual_mean, 'Precipitation', lnd_mask, **kwargs)\n",
    "summary[sim]['ET_L'][0] = get_summary(merra_annual_mean, 'Evap', lnd_mask, **kwargs)\n",
    "summary[sim]['R_L'][0] = get_summary(merra_annual_mean, 'runoff_tot', lnd_mask, **kwargs)\n",
    "summary[sim]['P_O'][0] = get_summary(merra_annual_mean, 'Precipitation', ocn_mask, **kwargs)\n",
    "summary[sim]['E_O'][0] = get_summary(merra_annual_mean, 'Evap', ocn_mask, **kwargs)\n",
    "\n",
    "try:\n",
    "    merra_annual_mean['C_A'] = merra_annual_mean['Precipitation']\n",
    "    merra_annual_mean['C_A'] -= merra_annual_mean['Evap'].values\n",
    "    summary[sim]['C_A'][0] = get_summary(merra_annual_mean, 'C_A', full_mask, **kwargs)\n",
    "except:\n",
    "    summary[sim]['C_A'][0] = np.nan\n",
    "\n",
    "summary[sim]\n"
   ]
  },
  {
   "cell_type": "code",
   "execution_count": null,
   "metadata": {
    "collapsed": false
   },
   "outputs": [],
   "source": [
    "sim = 'ADAM'\n",
    "print(sim)\n",
    "summary[sim] = empty_df()\n",
    "\n",
    "kwargs = dict(units='mm d-1', days_per_year=365.25)\n",
    "\n",
    "adam_annual_mean = annual_mean(ncdata['adam_monthly_ts'].sel(time=slice(start, end)), calendar='standard')\n",
    "\n",
    "summary[sim]['P_L'][0] = get_summary(adam_annual_mean, 'Precipitation', lnd_mask, **kwargs)\n",
    "\n",
    "\n",
    "summary[sim]\n"
   ]
  },
  {
   "cell_type": "code",
   "execution_count": null,
   "metadata": {
    "collapsed": false
   },
   "outputs": [],
   "source": [
    "sim = 'SHEFFIELD'\n",
    "print(sim)\n",
    "summary[sim] = empty_df()\n",
    "\n",
    "kwargs = dict(units='kg m-2 s-1', days_per_year=365.25)\n",
    "\n",
    "sheffield_annual_mean = annual_mean(ncdata['sheffield_monthly_ts'].sel(time=slice(start, end)), calendar='standard').squeeze()\n",
    "\n",
    "summary[sim]['P_L'][0] = get_summary(sheffield_annual_mean, 'Precipitation', lnd_mask, **kwargs)\n",
    "summary[sim]['P_O'][0] = get_summary(sheffield_annual_mean, 'Precipitation', ocn_mask, **kwargs)\n",
    "\n",
    "summary[sim]"
   ]
  },
  {
   "cell_type": "code",
   "execution_count": null,
   "metadata": {
    "collapsed": true
   },
   "outputs": [],
   "source": [
    "summary['OBSERVATIONS'] = empty_df()\n",
    "summary['OBSERVATIONS']['R_L'][0] = 3200\n"
   ]
  },
  {
   "cell_type": "code",
   "execution_count": null,
   "metadata": {
    "collapsed": false
   },
   "outputs": [],
   "source": [
    "index = summary.keys()\n",
    "df = pd.concat([summary[key] for key in index])\n",
    "df.index = index\n",
    "df\n",
    "df.T.plot(kind='bar')"
   ]
  },
  {
   "cell_type": "code",
   "execution_count": null,
   "metadata": {
    "collapsed": false
   },
   "outputs": [],
   "source": [
    "rename_vars = {'P_O': 'Precip\\n(Ocean)',\n",
    "               'E_O': 'Evap\\n(Ocean)',\n",
    "               'P_L': 'Precip\\n(Land)',\n",
    "               'ET_L': 'Evap\\n(Land)',\n",
    "               'R_L': 'Runoff\\n(Land)',\n",
    "               'C_A': 'Convergence\\n(Land+Ocean)'}\n",
    "\n",
    "rename_index = {'rasm_cpl_era_monthly_ts': 'RASM (ERA)', 'rasm_cpl_cfsr_monthly_ts': 'RASM (CFSR)'}\n",
    "\n",
    "df_rename = df.rename(columns=rename_vars, index=rename_index)\n",
    "\n",
    "df_rename"
   ]
  },
  {
   "cell_type": "code",
   "execution_count": null,
   "metadata": {
    "collapsed": false
   },
   "outputs": [],
   "source": [
    "df2 = df_rename\n",
    "df2['Dataset'] = df_rename.index\n",
    "melt = pd.melt(df2, 'Dataset')"
   ]
  },
  {
   "cell_type": "code",
   "execution_count": null,
   "metadata": {
    "collapsed": true
   },
   "outputs": [],
   "source": [
    "flatui = [\"#000000\", \"#000000\", \"#ec3125\", \"#4092c5\", \"#58b95b\", \"#ab66aa\", \"#f7941e\"]"
   ]
  },
  {
   "cell_type": "code",
   "execution_count": null,
   "metadata": {
    "collapsed": false
   },
   "outputs": [],
   "source": [
    "sns.set_style(\"whitegrid\", {'legend.frameon': True})\n",
    "\n",
    "sns.stripplot(x=\"variable\", y=\"value\", data=melt,\n",
    "              hue='Dataset', palette=flatui,\n",
    "              jitter=True, edgecolor=\"grey\", split=False, size=12)\n",
    "\n",
    "plt.xlabel('')\n",
    "plt.ylabel('Volume (km$^3$/yr)')\n",
    "plt.ylim([0, 9000])\n",
    "plt.title('Arctic Basin Freshwater Fluxes', fontsize=16)"
   ]
  },
  {
   "cell_type": "code",
   "execution_count": null,
   "metadata": {
    "collapsed": false
   },
   "outputs": [],
   "source": [
    "sns.set_style(\"white\")\n",
    "fig, ax = plt.subplots()\n",
    "\n",
    "wr50a_map.m.drawparallels(np.arange(-80., 81., 20.), linewidth=0.5)\n",
    "wr50a_map.m.drawmeridians(np.arange(-180., 181., 20.), linewidth=0.5)\n",
    "wr50a_map.m.drawcoastlines(color='k', linewidth=0.5)\n",
    "wr50a_map.m.drawmapboundary(fill_color=fill_color)\n",
    "wr50a_map.m.fillcontinents(color='white', zorder=0)\n",
    "wr50a_map.m.contourf(wr50a_map.xi, wr50a_map.yi, np.ma.masked_where(lnd_mask <= 0, lnd_mask), colors=[\"#2ecc71\", \"#2ecc71\"])\n",
    "wr50a_map.m.contourf(wr50a_map.xi, wr50a_map.yi, np.ma.masked_where(ocn_mask <= 0, ocn_mask), colors=[\"#34495e\", \"#34495e\"])\n",
    "\n",
    "# add legend\n",
    "lines = []\n",
    "labels = []\n",
    "for source, color in zip(['Land', 'Ocean'], [\"#2ecc71\", \"#34495e\"]):\n",
    "    lines.append(mlines.Line2D([], [], color=color, label=var, linewidth=30))\n",
    "    labels.append(source)\n",
    "\n",
    "leg = fig.legend(handles=lines, labels=labels, fontsize=25, loc=3, bbox_to_anchor=[0.07, 0.04])\n",
    "# plt.savefig(os.path.join(os.environ['FTP'], 'RASM_land_surface_climate_figures', 'arctic_flux_domain.pdf'), bbox_inches='tight')\n"
   ]
  },
  {
   "cell_type": "code",
   "execution_count": null,
   "metadata": {
    "collapsed": false
   },
   "outputs": [],
   "source": [
    "def add_reservoir(center, dims, text, ax=None, fontsize=12):\n",
    "    if ax is None:\n",
    "        ax = plt.gca()\n",
    "        \n",
    "    x, y = center\n",
    "    w, h = dims\n",
    "        \n",
    "    ax.add_patch(mpl.patches.Rectangle((x - w / 2., y - h / 2.), w, h, facecolor=\"white\"))\n",
    "    ax.text(x, y, text, fontsize=fontsize, fontweight='bold',\n",
    "            horizontalalignment='center', verticalalignment='center')\n",
    "    \n",
    "    \n",
    "annotate_kwargs = dict(xycoords='data', textcoords='data')\n",
    "\n",
    "\n",
    "def arrow_kwargs(size):\n",
    "    return dict(color=\"#34495e\",\n",
    "                length_includes_head=True,\n",
    "                width=size,\n",
    "                head_width=1.3 * size,\n",
    "                head_length=1 * size)\n",
    "    "
   ]
  },
  {
   "cell_type": "code",
   "execution_count": null,
   "metadata": {
    "collapsed": false
   },
   "outputs": [],
   "source": [
    "df.P_L."
   ]
  },
  {
   "cell_type": "code",
   "execution_count": null,
   "metadata": {
    "collapsed": false
   },
   "outputs": [],
   "source": [
    "max_arrow_width = 1\n",
    "\n",
    "scale = max_arrow_width / df.mean().max()\n",
    "\n",
    "sizes = df.mean() * scale\n",
    "\n",
    "print(sizes)"
   ]
  },
  {
   "cell_type": "code",
   "execution_count": null,
   "metadata": {
    "collapsed": false
   },
   "outputs": [],
   "source": [
    "sns.set_style(\"whitegrid\")\n",
    "\n",
    "fig = plt.figure()\n",
    "fig.suptitle('Arctic Basin Freshwater Budget', fontsize=14, fontweight='bold', y=.99)\n",
    "\n",
    "ax = fig.add_subplot(111)\n",
    "ax.set_title('(units: km$^3$/year)')\n",
    "\n",
    "add_reservoir((6, 9), (7, 1.5), 'ATMOSPHERE', ax=ax)\n",
    "add_reservoir((3.5, 5), (2, 2), 'OCEAN', ax=ax)\n",
    "add_reservoir((8, 5), (3, 2), 'LAND', ax=ax)\n",
    "\n",
    "# Atmosphere Fluxes - (P - E)\n",
    "ax.arrow(11, 9, -1.5, 0, **arrow_kwargs(sizes['C_A']))\n",
    "ax.text(9.75, 9.6, 'P-E', fontsize=10, fontweight='bold')\n",
    "\n",
    "# Land Fluxes - (P)\n",
    "ax.arrow(7, 8.25, 0, -2.25, **arrow_kwargs(sizes['P_L']))\n",
    "ax.text(7.25, 6.2, 'P$_L$', fontsize=10, fontweight='bold')\n",
    "\n",
    "df.P_L\n",
    "\n",
    "\n",
    "# Land Fluxes - (ET)\n",
    "ax.arrow(9.25, 6, 0, 2.25, **arrow_kwargs(sizes['ET_L']))\n",
    "ax.text(9.5, 7.9, 'ET$_L$', fontsize=10, fontweight='bold')\n",
    "\n",
    "# Land Fluxes - (R)\n",
    "ax.arrow(6.5, 5, -2, 0, **arrow_kwargs(sizes['ET_L']))\n",
    "ax.text(4.6, 5.4, 'R', fontsize=10, fontweight='bold')\n",
    "\n",
    "# Ocean Fluxes - (P)\n",
    "ax.arrow(2.75, 8.25, 0, -2.25, **arrow_kwargs(sizes['P_O']))\n",
    "ax.text(3, 6.2, 'P$_0$', fontsize=10, fontweight='bold')\n",
    "\n",
    "# Ocean Fluxes - (E)\n",
    "ax.arrow(4.25, 6, 0, 2.25, **arrow_kwargs(sizes['E_O']))\n",
    "ax.text(4.4, 7.9, 'E$_O$', fontsize=10, fontweight='bold')\n",
    "\n",
    "# Ocean Fluxes - (Inflow)\n",
    "ax.arrow(0.5, 5, 2, 0, **arrow_kwargs(0.25))\n",
    "\n",
    "# Ocean Fluxes - (Outflow)\n",
    "ax.arrow(3.5, 4, 0, -2, **arrow_kwargs(0.25))\n",
    "\n",
    "\n",
    "ax.axis([-2, 12.5, 0, 10])\n",
    "# ax.get_xaxis().set_visible(False)\n",
    "# ax.get_yaxis().set_visible(False)\n",
    "\n",
    "ax2 = fig.add_axes([0.13, 0.18, 0.25, 0.25])\n",
    "ax2.set_title('')\n",
    "\n",
    "wr50a_map.m.drawparallels(np.arange(-80., 81., 20.), linewidth=0.5)\n",
    "wr50a_map.m.drawmeridians(np.arange(-180., 181., 20.), linewidth=0.5)\n",
    "wr50a_map.m.drawcoastlines(color='k', linewidth=0.5)\n",
    "wr50a_map.m.drawmapboundary(fill_color=fill_color)\n",
    "wr50a_map.m.fillcontinents(color='white', zorder=0)\n",
    "wr50a_map.m.contourf(wr50a_map.xi, wr50a_map.yi, np.ma.masked_where(lnd_mask <= 0, lnd_mask), colors=[\"#2ecc71\", \"#2ecc71\"])\n",
    "wr50a_map.m.contourf(wr50a_map.xi, wr50a_map.yi, np.ma.masked_where(ocn_mask <= 0, ocn_mask), colors=[\"#34495e\", \"#34495e\"])\n",
    "\n",
    "# add legend\n",
    "lines = []\n",
    "labels = []\n",
    "for source, color in zip(['Land', 'Ocean'], [\"#2ecc71\", \"#34495e\"]):\n",
    "    lines.append(mlines.Line2D([], [], color=color, label=var, linewidth=8))\n",
    "    labels.append(source)\n",
    "\n",
    "leg = fig.legend(handles=lines, labels=labels, fontsize=10, loc=3, ncol=2, bbox_to_anchor=[0.07, 0.06])"
   ]
  },
  {
   "cell_type": "code",
   "execution_count": null,
   "metadata": {
    "collapsed": true
   },
   "outputs": [],
   "source": []
  },
  {
   "cell_type": "code",
   "execution_count": null,
   "metadata": {
    "collapsed": true
   },
   "outputs": [],
   "source": []
  }
 ],
 "metadata": {
  "kernelspec": {
   "display_name": "Python 3",
   "language": "python",
   "name": "python3"
  }
 },
 "nbformat": 4,
 "nbformat_minor": 0
}
