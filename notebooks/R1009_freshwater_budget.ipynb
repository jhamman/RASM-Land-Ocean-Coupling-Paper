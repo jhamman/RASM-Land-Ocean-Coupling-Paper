version https://git-lfs.github.com/spec/v1
oid sha256:d59101077e41eb23b5038c1d10a118e93ecca544d2a6d4f0d36d023a83f2e15e
size 36391
