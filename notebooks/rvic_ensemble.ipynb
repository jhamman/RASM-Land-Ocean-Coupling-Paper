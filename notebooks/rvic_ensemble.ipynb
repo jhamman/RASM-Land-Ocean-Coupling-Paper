{
 "cells": [
  {
   "cell_type": "markdown",
   "metadata": {},
   "source": [
    "RASM / RVIC Brute Force Parameter Selection\n",
    "======\n",
    "\n",
    "# Goal:\n",
    "\n",
    "Select the RVIC velocity and diffusion parameters that reproduce the mean monthly hydrograph for the largest river basins.\n",
    "\n",
    "## Methodology:\n",
    "\n",
    "### RVIC Parameter Generation Step\n",
    "\n",
    "We begin by generating parameter files for a mesh of possible flow velocity and diffusion parameters. In this case, we begin with a template RVIC parameters configuration file, and update the velocity and flow parameters for each pair of possible parameters.\n",
    "\n",
    "### RVIC Convolution Step\n",
    "\n",
    "Using the RVIC parameter files generated in the previous step, we perform the RVIC convolution step.  Again, we use a template configuration file and substitute just the name of the parameter file in for each set of parameters.\n",
    "\n",
    "### Overlap Statistic\n",
    "\n",
    "The overlap statistic was originally introduced by Perkins et al. (2007). Here we apply this statistic to the evaluation of mean monthly hydrographs, comparing the results from each RVIC convolution with streamflow observations.\n",
    "\n",
    "ref: http://dx.doi.org/10.1175/Jcli4253.1  \n",
    "\n",
    "### Weighted Composite Overlap Statistic\n",
    "\n",
    "To come up with a single statistic that summarizes the performance of each pair of RVIC parameters, we weight the overlap statistic from each individual river by the mean annual runoff volume from the observations.\n",
    "\n",
    "### Refs:\n",
    "- Obserservations: Dai et al. 2009, http://www.cgd.ucar.edu/cas/catalog/surface/dai-runoff/\n",
    "\n",
    "### Lit review:\n",
    "\n",
    "- Flow velocities default of 0.5 m/s: http://journals.ametsoc.org/doi/pdf/10.1175/2010JHM1212.1\n",
    "- Flow velocities between 0.5 m/s and 5 m/s, diffusions between 200 and 4000 m2/s.  Lohmann Telus paper (1996): http://www.tellusa.net/index.php/tellusa/article/viewFile/12200/13973"
   ]
  },
  {
   "cell_type": "code",
   "execution_count": 1,
   "metadata": {
    "collapsed": false
   },
   "outputs": [
    {
     "name": "stderr",
     "output_type": "stream",
     "text": [
      "/home/jhamman/anaconda/envs/rasm/lib/python3.4/site-packages/matplotlib/__init__.py:1350: UserWarning:  This call to matplotlib.use() has no effect\n",
      "because the backend has already been chosen;\n",
      "matplotlib.use() must be called *before* pylab, matplotlib.pyplot,\n",
      "or matplotlib.backends is imported for the first time.\n",
      "\n",
      "  warnings.warn(_use_error_msg)\n"
     ]
    }
   ],
   "source": [
    "%matplotlib inline\n",
    "\n",
    "# Standard-lib stuff\n",
    "import os\n",
    "from collections import namedtuple, OrderedDict\n",
    "\n",
    "# Numpy/pandas/xray\n",
    "import numpy as np\n",
    "import pandas as pd\n",
    "import xray\n",
    "\n",
    "# Plotting\n",
    "import matplotlib.pyplot as plt\n",
    "import seaborn as sns\n",
    "\n",
    "# RVIC api\n",
    "from rvic.parameters import parameters, read_config\n",
    "from rvic.convolution import convolution\n",
    "\n",
    "# This is where all the input data resides\n",
    "# os.environ['RVIC_TEST_DATA'] = '/Users/jhamman/Dropbox/data/RVIC_test_data'\n",
    "\n",
    "# This is where all the data will be written (up to 10 GB)\n",
    "work_root = '/raid2/jhamman/workdir/RVIC_RASM_calib/'\n",
    "temp_root = '/fast/jhamman/RVIC_RASM_calib/'\n",
    "\n",
    "# True if you want to recompute the unit hydrographs or the convolution.\n",
    "rerun_rvic = True\n",
    "\n",
    "# I ran this over multiple days so the datestamp on the RVIC parameters netCDF changed after midnight.\n",
    "# This just lets me look for parameters in a date flexible way\n",
    "dates = ['20160706']"
   ]
  },
  {
   "cell_type": "markdown",
   "metadata": {},
   "source": [
    "## Parameter Space Mesh\n",
    "\n",
    "`params` is a list that includes pairs of velocity and diffusion. Additional pairs of parameters can be appended to the list."
   ]
  },
  {
   "cell_type": "code",
   "execution_count": 2,
   "metadata": {
    "collapsed": false
   },
   "outputs": [
    {
     "data": {
      "text/plain": [
       "113"
      ]
     },
     "execution_count": 2,
     "metadata": {},
     "output_type": "execute_result"
    }
   ],
   "source": [
    "grid_vs = np.arange(0.20, 1.51, 0.1)\n",
    "grid_ds = np.arange(500, 4001, 500)\n",
    "v, d = np.meshgrid(grid_vs, grid_ds)\n",
    "params = list(zip(v.flatten(), d.flatten()))\n",
    "params.append((2., 2000.)) # original parameters\n",
    "len(params)"
   ]
  },
  {
   "cell_type": "markdown",
   "metadata": {},
   "source": [
    "## Generate the RVIC parameters (unit hydrographs)\n",
    "\n",
    "Loop over the list of `params` defined in the previous steps. Save some case information for use in the convoulution step (`cases`)."
   ]
  },
  {
   "cell_type": "code",
   "execution_count": null,
   "metadata": {
    "collapsed": false
   },
   "outputs": [
    {
     "name": "stdout",
     "output_type": "stream",
     "text": [
      "Case(velocity=0.20000000000000001, diffusion=500, id='dai_calib_0.20_0500', dir='/raid2/jhamman/workdir/RVIC_RASM_calib/dai_calib_0.20_0500')\n"
     ]
    }
   ],
   "source": [
    "Case = namedtuple('Case', ('velocity', 'diffusion', 'id', 'dir'))\n",
    "cases = OrderedDict()\n",
    "\n",
    "config = read_config(\n",
    "    '../data/RvicGenUH_dai2006_20150816_daily_template.cfg')\n",
    "\n",
    "for velocity, diffusion in params:\n",
    "        \n",
    "    caseid = 'dai_calib_{:1.2f}_{:04.0f}'.format(velocity, diffusion)\n",
    "    case_dir = os.path.join(work_root, caseid)\n",
    "\n",
    "    config['OPTIONS']['CASEID'] = caseid\n",
    "    config['OPTIONS']['CASE_DIR'] = case_dir\n",
    "    config['OPTIONS']['TEMP_DIR'] = os.path.join(temp_root, caseid)\n",
    "    \n",
    "    config['ROUTING']['VELOCITY'] = velocity\n",
    "    config['ROUTING']['DIFFUSION'] = diffusion\n",
    "\n",
    "    cases[caseid] = Case(velocity, diffusion, caseid, case_dir)\n",
    "\n",
    "    files = [os.path.join(case_dir, 'params',\n",
    "                          '{0}.rvic.prm.wr50a.{1}.nc'.format(caseid, d)) for d in dates]\n",
    "    \n",
    "    # make the parameters here (only if we haven't already done this)\n",
    "    if rerun_rvic and not any(map(os.path.isfile, files)):\n",
    "        print(cases[caseid], flush=True)\n",
    "        parameters(config, numofproc=6)"
   ]
  },
  {
   "cell_type": "markdown",
   "metadata": {},
   "source": [
    "## RVIC convolution\n",
    "\n",
    "Run the convolution step using the parameter files defined in the previous step."
   ]
  },
  {
   "cell_type": "code",
   "execution_count": 4,
   "metadata": {
    "collapsed": true
   },
   "outputs": [],
   "source": [
    "config = read_config(\n",
    "    '/Users/jhamman/workdir/RASM_RVIC_CALIB/rvic.convolution.template.cfg')\n",
    "\n",
    "for caseid, case in cases.items():\n",
    "    \n",
    "    caseid = case.id\n",
    "    case_dir = case.dir\n",
    "\n",
    "    config['HISTORY']['RVICHIST_NTAPES'] = 1  # somehow this was a list???\n",
    "\n",
    "    config['OPTIONS']['CASEID'] = caseid\n",
    "    config['OPTIONS']['CASE_DIR'] = case_dir\n",
    "    \n",
    "    # find the parameter file\n",
    "    for date in dates:\n",
    "        paramfile = os.path.join(case_dir, 'params', '{0}.rvic.prm.wr50a.{1}.nc'.format(caseid, date))\n",
    "        if os.path.isfile(paramfile):\n",
    "            break\n",
    "        else:\n",
    "            paramfile = None\n",
    "    if paramfile is not None:\n",
    "        config['PARAM_FILE']['FILE_NAME'] = paramfile\n",
    "    else:\n",
    "        raise RuntimeError('Did not find paramfile for case: {0}'.format(caseid))\n",
    "\n",
    "    # do the convolution here\n",
    "    if rerun_rvic:\n",
    "        convolution(config)"
   ]
  },
  {
   "cell_type": "code",
   "execution_count": 5,
   "metadata": {
    "collapsed": false
   },
   "outputs": [],
   "source": [
    "def hydrograph_overlap(obs, mod, by='month', return_data=False):\n",
    "    '''\n",
    "    Calculate the overlap statistic from [Perkins et al., 2007]\n",
    "    (http://dx.doi.org/10.1175/Jcli4253.1)\n",
    "       \n",
    "    Parameters\n",
    "    ----------\n",
    "    obs, mod : Pandas.Series\n",
    "        Series to calculate the overlap statistic on\n",
    "    by : str, function, or Pandas.Grouper\n",
    "        groupby directive\n",
    "    return_data : bool (default=False)\n",
    "        If True, return the normalized hydrographs in addition to the overlap statistic.\n",
    "        \n",
    "    Returns\n",
    "    -------\n",
    "    overlap : float\n",
    "        Overlap statistic calculated from `obs` and `mod`\n",
    "    '''\n",
    "    \n",
    "    # groupby functions\n",
    "    if by == 'month':\n",
    "        by = lambda x: x.month\n",
    "    elif by == 'yday':\n",
    "        by = lambda x: x.timetuple().tm_yday\n",
    "    \n",
    "    # align the series and create a pandas.DataFrame\n",
    "    obs, mod = obs.align(mod, join='outer')\n",
    "    df = pd.DataFrame({'obs': obs, 'mod': mod}, copy=True)\n",
    "    \n",
    "    # Drop any missing values\n",
    "    df.dropna(axis=0, how='any', inplace=True)\n",
    "    \n",
    "    # Groupby \"by\"\n",
    "    groups = df.groupby(by=by).mean()\n",
    "    \n",
    "    # normalize the mean grouped hydrographs\n",
    "    groups /= groups.sum()\n",
    "    \n",
    "    # Return the overlap statistic\n",
    "    overlap_stat = np.minimum(groups['obs'], groups['mod']).sum()\n",
    "    \n",
    "    if return_data:\n",
    "        return overlap_stat, groups\n",
    "    return overlap_stat"
   ]
  },
  {
   "cell_type": "markdown",
   "metadata": {},
   "source": [
    "## Bringing in the Observations\n",
    "\n",
    "First, we read in the observations from a netCDF file.  The dates in this file are a bit weight so, for now, I've just manually overwritten the time variable.  "
   ]
  },
  {
   "cell_type": "code",
   "execution_count": 6,
   "metadata": {
    "collapsed": true
   },
   "outputs": [],
   "source": [
    "# Load in Observations from Dai and Trenberth\n",
    "obs = xray.open_dataset('coastal-stns-Vol-monthly.updated-oct2007.nc', decode_times=False)\n",
    "obs['time'] = pd.date_range(start='1900-01-01', end='2006-12-31', freq='MS')\n"
   ]
  },
  {
   "cell_type": "markdown",
   "metadata": {},
   "source": [
    "The easiest way to get the streamflow from the RVIC and observation datasets is by index location.  Here, I setup a dictionary that will help us lookup the index for each of these 6 rivers."
   ]
  },
  {
   "cell_type": "code",
   "execution_count": 7,
   "metadata": {
    "collapsed": false
   },
   "outputs": [],
   "source": [
    "RiverLookUpInds = namedtuple('RiverLookUpInds', ('obs', 'rvic'))\n",
    "rivers = OrderedDict()\n",
    "rivers['Ob'] = RiverLookUpInds(12, 0)\n",
    "rivers['Yenisey'] = RiverLookUpInds(6, 1)\n",
    "rivers['Amur'] = RiverLookUpInds(16, 2)\n",
    "rivers['Lena'] = RiverLookUpInds(8, 3)\n",
    "rivers['Yukon'] = RiverLookUpInds(23, 4)\n",
    "rivers['Mackenzie'] = RiverLookUpInds(18, 5)\n"
   ]
  },
  {
   "cell_type": "markdown",
   "metadata": {},
   "source": [
    "We'll need these weights later when it comes time to calculate the composite statistic."
   ]
  },
  {
   "cell_type": "code",
   "execution_count": 8,
   "metadata": {
    "collapsed": false
   },
   "outputs": [],
   "source": [
    "weights = {}\n",
    "for river, inds in rivers.items():\n",
    "    weights[river] = obs['FLOW'].isel(station=inds.obs).to_series().groupby(lambda x: x.month).mean().sum()\n",
    "weights = pd.Series(weights)\n",
    "\n",
    "weights /= weights.sum()"
   ]
  },
  {
   "cell_type": "markdown",
   "metadata": {},
   "source": [
    "## Reading the RVIC streamflows and calculating the overlap statistic\n",
    "\n",
    "Now we can just loop over the RVIC history files and calculate the overlap statistic for each set of velocity and diffusion pairs for each river.  We'll calculate the composite statistic next. "
   ]
  },
  {
   "cell_type": "code",
   "execution_count": 9,
   "metadata": {
    "collapsed": false
   },
   "outputs": [],
   "source": [
    "stats = {}\n",
    "datas = {}\n",
    "for caseid, case in cases.items():\n",
    "    \n",
    "    stats[caseid] = {}\n",
    "    datas[caseid] = {}\n",
    "    \n",
    "    ds = xray.open_dataset(os.path.join(case.dir, 'hist',\n",
    "                                    '{0}.rvic.h0a.2015-01-01.nc'.format(caseid)))\n",
    "    ds = ds.resample('MS', how='mean', dim='time')\n",
    "    \n",
    "    ds = ds.sel(time=slice('1980-01-01', '2006-12-31'))\n",
    "    \n",
    "    for river, inds in rivers.items():\n",
    "        stat, data = hydrograph_overlap(obs['FLOW'].isel(station=inds.obs).to_series(),\n",
    "                                        ds['streamflow'].isel(outlets=inds.rvic).to_series(),\n",
    "                                        return_data=True)\n",
    "        stats[caseid][river] = stat\n",
    "        datas[caseid][river] = data"
   ]
  },
  {
   "cell_type": "markdown",
   "metadata": {
    "collapsed": false
   },
   "source": [
    "The composite statistic is calculated next.  "
   ]
  },
  {
   "cell_type": "code",
   "execution_count": 10,
   "metadata": {
    "collapsed": false
   },
   "outputs": [],
   "source": [
    "df = pd.DataFrame(stats)\n",
    "df_composite = df.multiply(weights, axis='index').sum() # this is not a series\n"
   ]
  },
  {
   "cell_type": "markdown",
   "metadata": {
    "collapsed": false
   },
   "source": [
    "### Plot the results"
   ]
  },
  {
   "cell_type": "code",
   "execution_count": 11,
   "metadata": {
    "collapsed": false
   },
   "outputs": [
    {
     "data": {
      "image/png": "[encoded data removed]",
      "text/plain": [
       "<matplotlib.figure.Figure at 0x10efdae80>"
      ]
     },
     "metadata": {},
     "output_type": "display_data"
    }
   ],
   "source": [
    "current_palette = sns.color_palette([\"#e74c3c\", \"#34495e\"])\n",
    "\n",
    "case_names = df_composite.sort_values().index  # individual cases sorted by skill\n",
    "\n",
    "fig, axes = plt.subplots(nrows=2, ncols=3, sharex=True, sharey=True, figsize=(8, 5))\n",
    "\n",
    "for i, (river, data) in enumerate(rivers.items()):\n",
    "\n",
    "    ax = axes.flat[i]\n",
    "    \n",
    "    if i == 2:\n",
    "        legend = True\n",
    "    else:\n",
    "        legend = False\n",
    "    \n",
    "    for j, caseid in enumerate(case_names):\n",
    "        datas[caseid][river]['mod'].plot(color='lightgrey', ax=ax, legend=False)\n",
    "        if j == len(case_names) - 1:\n",
    "            v, d = cases[caseid].velocity, cases[caseid].diffusion\n",
    "            df = datas[caseid][river].rename(columns={'mod': 'Optimized', 'obs': 'Observations'})\n",
    "            df.plot(ax=ax, lw=3, color=current_palette, legend=legend)\n",
    "            stat_calib = stats[caseid][river]\n",
    "    \n",
    "    datas['dai_calib_2.00_2000'][river]['mod'].plot(color='black',\n",
    "                                                    style='--',\n",
    "                                                    lw=3, ax=ax,\n",
    "                                                    label='Original',\n",
    "                                                    legend=legend)\n",
    "    stat_orig = stats['dai_calib_2.00_2000'][river]\n",
    "    \n",
    "    \n",
    "    \n",
    "#     ax.set_title('{0}: {1:1.2f} - {2:1.2f}'.format(river, stat_orig, stat_calib),\n",
    "#               fontsize=14)\n",
    "    ax.set_title('{0} River'.format(river), fontsize=14)\n",
    "    ax.set_ylabel('Normalized Hydrograph (-)')\n",
    "    ax.set_ylim([0, 0.38])\n",
    "#     if i == 2:\n",
    "#         leg = ax.legend(handles=ax.lines[-3:], loc=1)\n",
    "    \n",
    "plt.tight_layout()"
   ]
  },
  {
   "cell_type": "markdown",
   "metadata": {
    "collapsed": true
   },
   "source": [
    "Todo - \n",
    "\n",
    "- shade ensemble members in each plot based on skill score\n",
    "- plot parameter space (contourf)"
   ]
  },
  {
   "cell_type": "code",
   "execution_count": 12,
   "metadata": {
    "collapsed": false
   },
   "outputs": [],
   "source": [
    "df_composite = df_composite.to_frame('overlap_stat')"
   ]
  },
  {
   "cell_type": "code",
   "execution_count": 13,
   "metadata": {
    "collapsed": false
   },
   "outputs": [
    {
     "data": {
      "text/plain": [
       "Index(['dai_calib_0.20_0500', 'dai_calib_0.20_1000', 'dai_calib_0.20_1500',\n",
       "       'dai_calib_0.20_2000', 'dai_calib_0.20_2500', 'dai_calib_0.20_3000',\n",
       "       'dai_calib_0.20_3500', 'dai_calib_0.20_4000', 'dai_calib_0.30_0500',\n",
       "       'dai_calib_0.30_1000',\n",
       "       ...\n",
       "       'dai_calib_1.40_4000', 'dai_calib_1.50_0500', 'dai_calib_1.50_1000',\n",
       "       'dai_calib_1.50_1500', 'dai_calib_1.50_2000', 'dai_calib_1.50_2500',\n",
       "       'dai_calib_1.50_3000', 'dai_calib_1.50_3500', 'dai_calib_1.50_4000',\n",
       "       'dai_calib_2.00_2000'],\n",
       "      dtype='object', length=113)"
      ]
     },
     "execution_count": 13,
     "metadata": {},
     "output_type": "execute_result"
    }
   ],
   "source": [
    "df_composite.index"
   ]
  },
  {
   "cell_type": "code",
   "execution_count": 14,
   "metadata": {
    "collapsed": false
   },
   "outputs": [],
   "source": [
    "\n",
    "velocities = np.empty(len(df_composite))\n",
    "diffusions = np.empty(len(df_composite))\n",
    "\n",
    "for i, case in enumerate(df_composite.index):\n",
    "    velocities[i] = cases[case].velocity\n",
    "    diffusions[i] = cases[case].diffusion\n",
    "    \n",
    "df_composite['velocity'] = velocities\n",
    "df_composite['diffusion'] = diffusions\n"
   ]
  },
  {
   "cell_type": "code",
   "execution_count": 15,
   "metadata": {
    "collapsed": false
   },
   "outputs": [],
   "source": [
    "v, d = np.meshgrid(grid_vs, grid_ds)\n",
    "z = np.zeros_like(v)\n",
    "\n",
    "for inds, val in np.ndenumerate(z):\n",
    "    caseid = 'dai_calib_{:1.2f}_{:04.0f}'.format(v[inds], d[inds])\n",
    "    z[inds] = df_composite['overlap_stat'][caseid]\n"
   ]
  },
  {
   "cell_type": "code",
   "execution_count": 16,
   "metadata": {
    "collapsed": false
   },
   "outputs": [
    {
     "name": "stderr",
     "output_type": "stream",
     "text": [
      "/Users/jhamman/anaconda/lib/python3.4/site-packages/matplotlib/collections.py:650: FutureWarning: elementwise comparison failed; returning scalar instead, but in the future will perform elementwise comparison\n",
      "  if self._edgecolors_original != str('face'):\n"
     ]
    },
    {
     "data": {
      "text/plain": [
       "<matplotlib.text.Text at 0x110fc1f60>"
      ]
     },
     "execution_count": 16,
     "metadata": {},
     "output_type": "execute_result"
    },
    {
     "name": "stderr",
     "output_type": "stream",
     "text": [
      "/Users/jhamman/anaconda/lib/python3.4/site-packages/matplotlib/collections.py:590: FutureWarning: elementwise comparison failed; returning scalar instead, but in the future will perform elementwise comparison\n",
      "  if self._edgecolors == str('face'):\n"
     ]
    },
    {
     "data": {
      "image/png": "[encoded data removed]",
      "text/plain": [
       "<matplotlib.figure.Figure at 0x10eee3390>"
      ]
     },
     "metadata": {},
     "output_type": "display_data"
    }
   ],
   "source": [
    "cmap = xray.plot.utils._load_default_cmap()\n",
    "plt.contourf(v, d, z, 15, cmap='Blues')\n",
    "cbar = plt.colorbar()\n",
    "cbar.set_label('Overlap Statistic (-)')\n",
    "\n",
    "plt.contour(v, d, z, levels=[0.845], c='k')\n",
    "\n",
    "plt.xlim([0.2, 1])\n",
    "plt.ylim([500, 4000])\n",
    "plt.ylabel('Diffusion (m2/s)')\n",
    "plt.xlabel('Velocity (m/s)')\n",
    "plt.title('RASM-RVIC Optimization Surface')"
   ]
  },
  {
   "cell_type": "code",
   "execution_count": 17,
   "metadata": {
    "collapsed": false
   },
   "outputs": [
    {
     "data": {
      "text/html": [
       "<div>\n",
       "<table border=\"1\" class=\"dataframe\">\n",
       "  <thead>\n",
       "    <tr style=\"text-align: right;\">\n",
       "      <th></th>\n",
       "      <th>overlap_stat</th>\n",
       "      <th>velocity</th>\n",
       "      <th>diffusion</th>\n",
       "    </tr>\n",
       "  </thead>\n",
       "  <tbody>\n",
       "    <tr>\n",
       "      <th>dai_calib_1.50_0500</th>\n",
       "      <td>0.642929</td>\n",
       "      <td>1.5</td>\n",
       "      <td>500</td>\n",
       "    </tr>\n",
       "    <tr>\n",
       "      <th>dai_calib_2.00_2000</th>\n",
       "      <td>0.644189</td>\n",
       "      <td>2.0</td>\n",
       "      <td>2000</td>\n",
       "    </tr>\n",
       "    <tr>\n",
       "      <th>dai_calib_1.40_0500</th>\n",
       "      <td>0.647038</td>\n",
       "      <td>1.4</td>\n",
       "      <td>500</td>\n",
       "    </tr>\n",
       "    <tr>\n",
       "      <th>dai_calib_1.50_1000</th>\n",
       "      <td>0.648296</td>\n",
       "      <td>1.5</td>\n",
       "      <td>1000</td>\n",
       "    </tr>\n",
       "    <tr>\n",
       "      <th>dai_calib_1.40_1000</th>\n",
       "      <td>0.653293</td>\n",
       "      <td>1.4</td>\n",
       "      <td>1000</td>\n",
       "    </tr>\n",
       "    <tr>\n",
       "      <th>dai_calib_1.30_0500</th>\n",
       "      <td>0.653474</td>\n",
       "      <td>1.3</td>\n",
       "      <td>500</td>\n",
       "    </tr>\n",
       "    <tr>\n",
       "      <th>dai_calib_1.50_1500</th>\n",
       "      <td>0.655185</td>\n",
       "      <td>1.5</td>\n",
       "      <td>1500</td>\n",
       "    </tr>\n",
       "    <tr>\n",
       "      <th>dai_calib_1.30_1000</th>\n",
       "      <td>0.660334</td>\n",
       "      <td>1.3</td>\n",
       "      <td>1000</td>\n",
       "    </tr>\n",
       "    <tr>\n",
       "      <th>dai_calib_1.40_1500</th>\n",
       "      <td>0.661440</td>\n",
       "      <td>1.4</td>\n",
       "      <td>1500</td>\n",
       "    </tr>\n",
       "    <tr>\n",
       "      <th>dai_calib_1.20_0500</th>\n",
       "      <td>0.662351</td>\n",
       "      <td>1.2</td>\n",
       "      <td>500</td>\n",
       "    </tr>\n",
       "    <tr>\n",
       "      <th>dai_calib_1.50_2000</th>\n",
       "      <td>0.662486</td>\n",
       "      <td>1.5</td>\n",
       "      <td>2000</td>\n",
       "    </tr>\n",
       "    <tr>\n",
       "      <th>dai_calib_1.30_1500</th>\n",
       "      <td>0.669151</td>\n",
       "      <td>1.3</td>\n",
       "      <td>1500</td>\n",
       "    </tr>\n",
       "    <tr>\n",
       "      <th>dai_calib_0.20_1000</th>\n",
       "      <td>0.669193</td>\n",
       "      <td>0.2</td>\n",
       "      <td>1000</td>\n",
       "    </tr>\n",
       "    <tr>\n",
       "      <th>dai_calib_1.20_1000</th>\n",
       "      <td>0.669267</td>\n",
       "      <td>1.2</td>\n",
       "      <td>1000</td>\n",
       "    </tr>\n",
       "    <tr>\n",
       "      <th>dai_calib_1.40_2000</th>\n",
       "      <td>0.669382</td>\n",
       "      <td>1.4</td>\n",
       "      <td>2000</td>\n",
       "    </tr>\n",
       "    <tr>\n",
       "      <th>dai_calib_1.50_2500</th>\n",
       "      <td>0.669410</td>\n",
       "      <td>1.5</td>\n",
       "      <td>2500</td>\n",
       "    </tr>\n",
       "    <tr>\n",
       "      <th>dai_calib_0.20_0500</th>\n",
       "      <td>0.670087</td>\n",
       "      <td>0.2</td>\n",
       "      <td>500</td>\n",
       "    </tr>\n",
       "    <tr>\n",
       "      <th>dai_calib_0.20_1500</th>\n",
       "      <td>0.671256</td>\n",
       "      <td>0.2</td>\n",
       "      <td>1500</td>\n",
       "    </tr>\n",
       "    <tr>\n",
       "      <th>dai_calib_1.10_0500</th>\n",
       "      <td>0.673237</td>\n",
       "      <td>1.1</td>\n",
       "      <td>500</td>\n",
       "    </tr>\n",
       "    <tr>\n",
       "      <th>dai_calib_0.20_2000</th>\n",
       "      <td>0.673587</td>\n",
       "      <td>0.2</td>\n",
       "      <td>2000</td>\n",
       "    </tr>\n",
       "    <tr>\n",
       "      <th>dai_calib_0.20_2500</th>\n",
       "      <td>0.675546</td>\n",
       "      <td>0.2</td>\n",
       "      <td>2500</td>\n",
       "    </tr>\n",
       "    <tr>\n",
       "      <th>dai_calib_1.50_3000</th>\n",
       "      <td>0.676058</td>\n",
       "      <td>1.5</td>\n",
       "      <td>3000</td>\n",
       "    </tr>\n",
       "    <tr>\n",
       "      <th>dai_calib_1.40_2500</th>\n",
       "      <td>0.677016</td>\n",
       "      <td>1.4</td>\n",
       "      <td>2500</td>\n",
       "    </tr>\n",
       "    <tr>\n",
       "      <th>dai_calib_0.20_3000</th>\n",
       "      <td>0.677106</td>\n",
       "      <td>0.2</td>\n",
       "      <td>3000</td>\n",
       "    </tr>\n",
       "    <tr>\n",
       "      <th>dai_calib_1.30_2000</th>\n",
       "      <td>0.677894</td>\n",
       "      <td>1.3</td>\n",
       "      <td>2000</td>\n",
       "    </tr>\n",
       "    <tr>\n",
       "      <th>dai_calib_0.20_3500</th>\n",
       "      <td>0.678348</td>\n",
       "      <td>0.2</td>\n",
       "      <td>3500</td>\n",
       "    </tr>\n",
       "    <tr>\n",
       "      <th>dai_calib_1.20_1500</th>\n",
       "      <td>0.678872</td>\n",
       "      <td>1.2</td>\n",
       "      <td>1500</td>\n",
       "    </tr>\n",
       "    <tr>\n",
       "      <th>dai_calib_0.20_4000</th>\n",
       "      <td>0.679348</td>\n",
       "      <td>0.2</td>\n",
       "      <td>4000</td>\n",
       "    </tr>\n",
       "    <tr>\n",
       "      <th>dai_calib_1.10_1000</th>\n",
       "      <td>0.680873</td>\n",
       "      <td>1.1</td>\n",
       "      <td>1000</td>\n",
       "    </tr>\n",
       "    <tr>\n",
       "      <th>dai_calib_1.50_3500</th>\n",
       "      <td>0.682835</td>\n",
       "      <td>1.5</td>\n",
       "      <td>3500</td>\n",
       "    </tr>\n",
       "    <tr>\n",
       "      <th>...</th>\n",
       "      <td>...</td>\n",
       "      <td>...</td>\n",
       "      <td>...</td>\n",
       "    </tr>\n",
       "    <tr>\n",
       "      <th>dai_calib_0.70_1500</th>\n",
       "      <td>0.794307</td>\n",
       "      <td>0.7</td>\n",
       "      <td>1500</td>\n",
       "    </tr>\n",
       "    <tr>\n",
       "      <th>dai_calib_0.90_4000</th>\n",
       "      <td>0.794507</td>\n",
       "      <td>0.9</td>\n",
       "      <td>4000</td>\n",
       "    </tr>\n",
       "    <tr>\n",
       "      <th>dai_calib_0.40_2000</th>\n",
       "      <td>0.798100</td>\n",
       "      <td>0.4</td>\n",
       "      <td>2000</td>\n",
       "    </tr>\n",
       "    <tr>\n",
       "      <th>dai_calib_0.80_3000</th>\n",
       "      <td>0.800592</td>\n",
       "      <td>0.8</td>\n",
       "      <td>3000</td>\n",
       "    </tr>\n",
       "    <tr>\n",
       "      <th>dai_calib_0.60_0500</th>\n",
       "      <td>0.802354</td>\n",
       "      <td>0.6</td>\n",
       "      <td>500</td>\n",
       "    </tr>\n",
       "    <tr>\n",
       "      <th>dai_calib_0.70_2000</th>\n",
       "      <td>0.806266</td>\n",
       "      <td>0.7</td>\n",
       "      <td>2000</td>\n",
       "    </tr>\n",
       "    <tr>\n",
       "      <th>dai_calib_0.40_1500</th>\n",
       "      <td>0.808616</td>\n",
       "      <td>0.4</td>\n",
       "      <td>1500</td>\n",
       "    </tr>\n",
       "    <tr>\n",
       "      <th>dai_calib_0.80_3500</th>\n",
       "      <td>0.810106</td>\n",
       "      <td>0.8</td>\n",
       "      <td>3500</td>\n",
       "    </tr>\n",
       "    <tr>\n",
       "      <th>dai_calib_0.50_4000</th>\n",
       "      <td>0.810941</td>\n",
       "      <td>0.5</td>\n",
       "      <td>4000</td>\n",
       "    </tr>\n",
       "    <tr>\n",
       "      <th>dai_calib_0.60_1000</th>\n",
       "      <td>0.814616</td>\n",
       "      <td>0.6</td>\n",
       "      <td>1000</td>\n",
       "    </tr>\n",
       "    <tr>\n",
       "      <th>dai_calib_0.70_2500</th>\n",
       "      <td>0.816985</td>\n",
       "      <td>0.7</td>\n",
       "      <td>2500</td>\n",
       "    </tr>\n",
       "    <tr>\n",
       "      <th>dai_calib_0.80_4000</th>\n",
       "      <td>0.818495</td>\n",
       "      <td>0.8</td>\n",
       "      <td>4000</td>\n",
       "    </tr>\n",
       "    <tr>\n",
       "      <th>dai_calib_0.40_1000</th>\n",
       "      <td>0.818989</td>\n",
       "      <td>0.4</td>\n",
       "      <td>1000</td>\n",
       "    </tr>\n",
       "    <tr>\n",
       "      <th>dai_calib_0.50_3500</th>\n",
       "      <td>0.819438</td>\n",
       "      <td>0.5</td>\n",
       "      <td>3500</td>\n",
       "    </tr>\n",
       "    <tr>\n",
       "      <th>dai_calib_0.60_1500</th>\n",
       "      <td>0.825766</td>\n",
       "      <td>0.6</td>\n",
       "      <td>1500</td>\n",
       "    </tr>\n",
       "    <tr>\n",
       "      <th>dai_calib_0.70_3000</th>\n",
       "      <td>0.826613</td>\n",
       "      <td>0.7</td>\n",
       "      <td>3000</td>\n",
       "    </tr>\n",
       "    <tr>\n",
       "      <th>dai_calib_0.50_3000</th>\n",
       "      <td>0.828862</td>\n",
       "      <td>0.5</td>\n",
       "      <td>3000</td>\n",
       "    </tr>\n",
       "    <tr>\n",
       "      <th>dai_calib_0.40_0500</th>\n",
       "      <td>0.829425</td>\n",
       "      <td>0.4</td>\n",
       "      <td>500</td>\n",
       "    </tr>\n",
       "    <tr>\n",
       "      <th>dai_calib_0.70_3500</th>\n",
       "      <td>0.834764</td>\n",
       "      <td>0.7</td>\n",
       "      <td>3500</td>\n",
       "    </tr>\n",
       "    <tr>\n",
       "      <th>dai_calib_0.60_2000</th>\n",
       "      <td>0.835860</td>\n",
       "      <td>0.6</td>\n",
       "      <td>2000</td>\n",
       "    </tr>\n",
       "    <tr>\n",
       "      <th>dai_calib_0.50_2500</th>\n",
       "      <td>0.837265</td>\n",
       "      <td>0.5</td>\n",
       "      <td>2500</td>\n",
       "    </tr>\n",
       "    <tr>\n",
       "      <th>dai_calib_0.50_0500</th>\n",
       "      <td>0.838438</td>\n",
       "      <td>0.5</td>\n",
       "      <td>500</td>\n",
       "    </tr>\n",
       "    <tr>\n",
       "      <th>dai_calib_0.70_4000</th>\n",
       "      <td>0.841661</td>\n",
       "      <td>0.7</td>\n",
       "      <td>4000</td>\n",
       "    </tr>\n",
       "    <tr>\n",
       "      <th>dai_calib_0.50_2000</th>\n",
       "      <td>0.842365</td>\n",
       "      <td>0.5</td>\n",
       "      <td>2000</td>\n",
       "    </tr>\n",
       "    <tr>\n",
       "      <th>dai_calib_0.60_4000</th>\n",
       "      <td>0.843485</td>\n",
       "      <td>0.6</td>\n",
       "      <td>4000</td>\n",
       "    </tr>\n",
       "    <tr>\n",
       "      <th>dai_calib_0.60_2500</th>\n",
       "      <td>0.844599</td>\n",
       "      <td>0.6</td>\n",
       "      <td>2500</td>\n",
       "    </tr>\n",
       "    <tr>\n",
       "      <th>dai_calib_0.50_1500</th>\n",
       "      <td>0.844665</td>\n",
       "      <td>0.5</td>\n",
       "      <td>1500</td>\n",
       "    </tr>\n",
       "    <tr>\n",
       "      <th>dai_calib_0.60_3500</th>\n",
       "      <td>0.845100</td>\n",
       "      <td>0.6</td>\n",
       "      <td>3500</td>\n",
       "    </tr>\n",
       "    <tr>\n",
       "      <th>dai_calib_0.50_1000</th>\n",
       "      <td>0.845274</td>\n",
       "      <td>0.5</td>\n",
       "      <td>1000</td>\n",
       "    </tr>\n",
       "    <tr>\n",
       "      <th>dai_calib_0.60_3000</th>\n",
       "      <td>0.845952</td>\n",
       "      <td>0.6</td>\n",
       "      <td>3000</td>\n",
       "    </tr>\n",
       "  </tbody>\n",
       "</table>\n",
       "<p>113 rows × 3 columns</p>\n",
       "</div>"
      ],
      "text/plain": [
       "                     overlap_stat  velocity  diffusion\n",
       "dai_calib_1.50_0500      0.642929       1.5        500\n",
       "dai_calib_2.00_2000      0.644189       2.0       2000\n",
       "dai_calib_1.40_0500      0.647038       1.4        500\n",
       "dai_calib_1.50_1000      0.648296       1.5       1000\n",
       "dai_calib_1.40_1000      0.653293       1.4       1000\n",
       "dai_calib_1.30_0500      0.653474       1.3        500\n",
       "dai_calib_1.50_1500      0.655185       1.5       1500\n",
       "dai_calib_1.30_1000      0.660334       1.3       1000\n",
       "dai_calib_1.40_1500      0.661440       1.4       1500\n",
       "dai_calib_1.20_0500      0.662351       1.2        500\n",
       "dai_calib_1.50_2000      0.662486       1.5       2000\n",
       "dai_calib_1.30_1500      0.669151       1.3       1500\n",
       "dai_calib_0.20_1000      0.669193       0.2       1000\n",
       "dai_calib_1.20_1000      0.669267       1.2       1000\n",
       "dai_calib_1.40_2000      0.669382       1.4       2000\n",
       "dai_calib_1.50_2500      0.669410       1.5       2500\n",
       "dai_calib_0.20_0500      0.670087       0.2        500\n",
       "dai_calib_0.20_1500      0.671256       0.2       1500\n",
       "dai_calib_1.10_0500      0.673237       1.1        500\n",
       "dai_calib_0.20_2000      0.673587       0.2       2000\n",
       "dai_calib_0.20_2500      0.675546       0.2       2500\n",
       "dai_calib_1.50_3000      0.676058       1.5       3000\n",
       "dai_calib_1.40_2500      0.677016       1.4       2500\n",
       "dai_calib_0.20_3000      0.677106       0.2       3000\n",
       "dai_calib_1.30_2000      0.677894       1.3       2000\n",
       "dai_calib_0.20_3500      0.678348       0.2       3500\n",
       "dai_calib_1.20_1500      0.678872       1.2       1500\n",
       "dai_calib_0.20_4000      0.679348       0.2       4000\n",
       "dai_calib_1.10_1000      0.680873       1.1       1000\n",
       "dai_calib_1.50_3500      0.682835       1.5       3500\n",
       "...                           ...       ...        ...\n",
       "dai_calib_0.70_1500      0.794307       0.7       1500\n",
       "dai_calib_0.90_4000      0.794507       0.9       4000\n",
       "dai_calib_0.40_2000      0.798100       0.4       2000\n",
       "dai_calib_0.80_3000      0.800592       0.8       3000\n",
       "dai_calib_0.60_0500      0.802354       0.6        500\n",
       "dai_calib_0.70_2000      0.806266       0.7       2000\n",
       "dai_calib_0.40_1500      0.808616       0.4       1500\n",
       "dai_calib_0.80_3500      0.810106       0.8       3500\n",
       "dai_calib_0.50_4000      0.810941       0.5       4000\n",
       "dai_calib_0.60_1000      0.814616       0.6       1000\n",
       "dai_calib_0.70_2500      0.816985       0.7       2500\n",
       "dai_calib_0.80_4000      0.818495       0.8       4000\n",
       "dai_calib_0.40_1000      0.818989       0.4       1000\n",
       "dai_calib_0.50_3500      0.819438       0.5       3500\n",
       "dai_calib_0.60_1500      0.825766       0.6       1500\n",
       "dai_calib_0.70_3000      0.826613       0.7       3000\n",
       "dai_calib_0.50_3000      0.828862       0.5       3000\n",
       "dai_calib_0.40_0500      0.829425       0.4        500\n",
       "dai_calib_0.70_3500      0.834764       0.7       3500\n",
       "dai_calib_0.60_2000      0.835860       0.6       2000\n",
       "dai_calib_0.50_2500      0.837265       0.5       2500\n",
       "dai_calib_0.50_0500      0.838438       0.5        500\n",
       "dai_calib_0.70_4000      0.841661       0.7       4000\n",
       "dai_calib_0.50_2000      0.842365       0.5       2000\n",
       "dai_calib_0.60_4000      0.843485       0.6       4000\n",
       "dai_calib_0.60_2500      0.844599       0.6       2500\n",
       "dai_calib_0.50_1500      0.844665       0.5       1500\n",
       "dai_calib_0.60_3500      0.845100       0.6       3500\n",
       "dai_calib_0.50_1000      0.845274       0.5       1000\n",
       "dai_calib_0.60_3000      0.845952       0.6       3000\n",
       "\n",
       "[113 rows x 3 columns]"
      ]
     },
     "execution_count": 17,
     "metadata": {},
     "output_type": "execute_result"
    }
   ],
   "source": [
    "df_composite.sort_values(by='overlap_stat')"
   ]
  },
  {
   "cell_type": "code",
   "execution_count": 18,
   "metadata": {
    "collapsed": true
   },
   "outputs": [],
   "source": [
    "stat_orig = stats['dai_calib_2.00_2000']"
   ]
  }
 ],
 "metadata": {
  "kernelspec": {
   "display_name": "Python 3",
   "language": "python",
   "name": "python3"
  },
  "language_info": {
   "codemirror_mode": {
    "name": "ipython",
    "version": 3
   },
   "file_extension": ".py",
   "mimetype": "text/x-python",
   "name": "python",
   "nbconvert_exporter": "python",
   "pygments_lexer": "ipython3",
   "version": "3.4.4"
  }
 },
 "nbformat": 4,
 "nbformat_minor": 0
}
