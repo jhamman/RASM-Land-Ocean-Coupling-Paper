version https://git-lfs.github.com/spec/v1
oid sha256:48c041a300603ca08210a9c21e29c62c6782eb1620bf5ee93b764c0e214c26f1
size 177633
